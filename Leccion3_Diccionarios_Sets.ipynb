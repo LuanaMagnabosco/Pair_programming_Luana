{
 "cells": [
  {
   "cell_type": "code",
   "execution_count": 1,
   "metadata": {},
   "outputs": [
    {
     "name": "stdout",
     "output_type": "stream",
     "text": [
      "Ejercicio_: Diccionario vacio: {}\n"
     ]
    }
   ],
   "source": [
    "diccionario1 = {}\n",
    "print('Ejercicio_1: Diccionario vacio:', diccionario1)"
   ]
  },
  {
   "cell_type": "code",
   "execution_count": 2,
   "metadata": {},
   "outputs": [
    {
     "name": "stdout",
     "output_type": "stream",
     "text": [
      "Ejercicio_2: Mi diccionario con elementos es: {'lunes': 'repaso', 'martes': 'clase', 'miercoles': 'pair_programming', 'jueves': 'clase', 'viernes': 'repaso'}\n"
     ]
    }
   ],
   "source": [
    "diccionario2 = {'lunes': 'repaso', 'martes':'clase', 'miercoles':'pair_programming', 'jueves':'clase', 'viernes':'repaso'}\n",
    "print('Ejercicio_2: Mi diccionario con elementos es:', diccionario2)"
   ]
  },
  {
   "cell_type": "code",
   "execution_count": 5,
   "metadata": {},
   "outputs": [
    {
     "name": "stdout",
     "output_type": "stream",
     "text": [
      "Ejercicio_3: Respuesta del usuario: miercoles\n"
     ]
    }
   ],
   "source": [
    "cual_clave = input('Que día es el pair programming')\n",
    "\n",
    "valor1 = print('Ejercicio_3: Respuesta del usuario:', cual_clave)\n"
   ]
  },
  {
   "cell_type": "code",
   "execution_count": 6,
   "metadata": {},
   "outputs": [
    {
     "name": "stdout",
     "output_type": "stream",
     "text": [
      "Ejercicio_4: Diccionario con nuevos elementos: {'lunes': 'repaso', 'martes': 'clase', 'miercoles': 'pair_programming', 'jueves': 'clase', 'viernes': 'repaso', 'sabado': 'clase', 'domingo': 'descanso'}\n"
     ]
    }
   ],
   "source": [
    "nuevos_elementos = {'sabado':'clase', 'domingo':'descanso'}\n",
    "diccionario2.update(nuevos_elementos)\n",
    "print('Ejercicio_4: Diccionario con nuevos elementos:', diccionario2)\n"
   ]
  },
  {
   "cell_type": "markdown",
   "metadata": {},
   "source": [
    "# EJERCICIO 5 Actualizar el valor de una clave en un diccionario\n",
    "# Descripción: Usando el diccionario creado en el ejercicio 2, actualiza el valor correspondiente a una clave existente. Ejemplo: "
   ]
  },
  {
   "cell_type": "code",
   "execution_count": 8,
   "metadata": {},
   "outputs": [
    {
     "name": "stdout",
     "output_type": "stream",
     "text": [
      "Ejercicio_6: Clave-valor eliminado por el usuario: clase\n"
     ]
    }
   ],
   "source": [
    "elemento_eliminado = input('Que dia de esta semana no podras asistir a clase')\n",
    "\n",
    "eliminado1 = print('Ejercicio_6: Clave-valor eliminado por el usuario:', diccionario2.pop(elemento_eliminado) )"
   ]
  },
  {
   "cell_type": "markdown",
   "metadata": {},
   "source": [
    "DUDA SOBRE LA PREGUNTA"
   ]
  },
  {
   "cell_type": "code",
   "execution_count": 31,
   "metadata": {},
   "outputs": [
    {
     "name": "stdout",
     "output_type": "stream",
     "text": [
      "Ejercicio_7: La clave especifica indicada por el usuario: clase\n"
     ]
    }
   ],
   "source": [
    "existe_clave = input('El sabado os juntais en grupo para que')\n",
    "\n",
    "print('Ejercicio_7: La clave especifica indicada por el usuario:', diccionario2.setdefault('sabado'))"
   ]
  },
  {
   "cell_type": "markdown",
   "metadata": {},
   "source": [
    "NO HE ENTENDIDO LO QUE HE HECHO"
   ]
  },
  {
   "cell_type": "code",
   "execution_count": 16,
   "metadata": {},
   "outputs": [
    {
     "name": "stdout",
     "output_type": "stream",
     "text": [
      "Ejercicio_8: La lista de las claves es: dict_keys(['lunes', 'martes', 'viernes', 'sabado', 'domingo'])\n"
     ]
    }
   ],
   "source": [
    "print('Ejercicio_8: La lista de las claves es:', diccionario2.keys())"
   ]
  },
  {
   "cell_type": "code",
   "execution_count": 17,
   "metadata": {},
   "outputs": [
    {
     "name": "stdout",
     "output_type": "stream",
     "text": [
      "Ejercicio_9: La lista de los valores es: dict_values(['repaso', 'clase', 'repaso', 'clase', 'descanso'])\n"
     ]
    }
   ],
   "source": [
    "print('Ejercicio_9: La lista de los valores es:', diccionario2.values())"
   ]
  },
  {
   "cell_type": "markdown",
   "metadata": {},
   "source": [
    "Ejercicio_10 Utilizar el método setdefault() para establecer un valor predeterminado si la clave no existe\n",
    "Descripción: Usando el diccionario creado en el ejercicio 2, obten el valor correspondiente a una clave. Si la clave no existe, establece un valor predeterminado y devuelve dicho valor."
   ]
  },
  {
   "cell_type": "code",
   "execution_count": 33,
   "metadata": {},
   "outputs": [
    {
     "name": "stdout",
     "output_type": "stream",
     "text": [
      "Ejercicio_10: Cuando la clave no existe: None\n"
     ]
    }
   ],
   "source": [
    "print('Ejercicio_10: Cuando la clave no existe:', diccionario2.setdefault('comida'))"
   ]
  },
  {
   "cell_type": "markdown",
   "metadata": {},
   "source": [
    "Ejercicio_11 Manipulación de un diccionario utilizando pop() y popitem()\n",
    "Descripción: Usando el diccionario creado en el ejercicio 2, realiza operaciones de eliminación utilizando pop() y popitem(), y observa cómo afectan al diccionario."
   ]
  },
  {
   "cell_type": "code",
   "execution_count": null,
   "metadata": {},
   "outputs": [],
   "source": [
    "#SETS:"
   ]
  },
  {
   "cell_type": "code",
   "execution_count": 42,
   "metadata": {},
   "outputs": [
    {
     "name": "stdout",
     "output_type": "stream",
     "text": [
      "Ejercicio_1: Crear un conjunto vacio: {}\n"
     ]
    }
   ],
   "source": [
    "set1 = {}\n",
    "print('Ejercicio_1: Crear un conjunto vacio:', set1)"
   ]
  },
  {
   "cell_type": "code",
   "execution_count": 50,
   "metadata": {},
   "outputs": [
    {
     "name": "stdout",
     "output_type": "stream",
     "text": [
      "Ejercicio_2: Conjunto con elementos: {40, 20, 60, 79}\n"
     ]
    }
   ],
   "source": [
    "set2 = {20, 40, 60, 79}\n",
    "print('Ejercicio_2: Conjunto con elementos:', set2)"
   ]
  },
  {
   "cell_type": "code",
   "execution_count": 51,
   "metadata": {},
   "outputs": [
    {
     "name": "stdout",
     "output_type": "stream",
     "text": [
      "Ejercicio_3: Agregando un elemento: {6, 40, 79, 20, 60}\n",
      "Ejercicio_3: Agregando dos elementos: {6, 40, 79, 15, 20, 25, 60}\n"
     ]
    }
   ],
   "source": [
    "set2.add(6)\n",
    "print('Ejercicio_3: Agregando un elemento:', set2)\n",
    "\n",
    "nuevos_elementos1 = [15, 25]\n",
    "set2.update(nuevos_elementos1)\n",
    "print('Ejercicio_3: Agregando dos elementos:', set2)"
   ]
  },
  {
   "cell_type": "code",
   "execution_count": 55,
   "metadata": {},
   "outputs": [
    {
     "name": "stdout",
     "output_type": "stream",
     "text": [
      "Ejercicio_4: Remover un elemento del conjunto {6, 40, 79, 15, 25, 60}\n"
     ]
    }
   ],
   "source": [
    "ususario_elimina = input('Elimina un elemento del set')\n",
    "set2.remove(20)\n",
    "print('Ejercicio_4: Remover un elemento del conjunto', set2)\n",
    "\n",
    "#en el material indica [] y no se puede poder corchetes en dentro del los parentese de remove"
   ]
  },
  {
   "cell_type": "code",
   "execution_count": 59,
   "metadata": {},
   "outputs": [
    {
     "ename": "IndentationError",
     "evalue": "expected an indented block after 'if' statement on line 1 (4200726764.py, line 2)",
     "output_type": "error",
     "traceback": [
      "\u001b[0;36m  Cell \u001b[0;32mIn[59], line 2\u001b[0;36m\u001b[0m\n\u001b[0;31m    print(' El elemento 45 esta presente en el conjunto')\u001b[0m\n\u001b[0m    ^\u001b[0m\n\u001b[0;31mIndentationError\u001b[0m\u001b[0;31m:\u001b[0m expected an indented block after 'if' statement on line 1\n"
     ]
    }
   ],
   "source": [
    "if 45 in set2:\n",
    "print(' El elemento 45 esta presente en el conjunto')\n",
    "else:\n",
    "print('Ejercicio_5: Saber si un elemento esta presente en mi set')"
   ]
  },
  {
   "cell_type": "code",
   "execution_count": 62,
   "metadata": {},
   "outputs": [],
   "source": [
    "#ejercicios en clase 05/03/2024\n",
    "habitantes = {'Salamanca': 50000, \n",
    "            'Mallorca': 35000, \n",
    "            'Madrid': 5000000, \n",
    "            'Alicante': 40000, \n",
    "            'Las Palmas': 60000, \n",
    "            'Granada': 50000}\n",
    "\n",
    "\n"
   ]
  },
  {
   "cell_type": "code",
   "execution_count": 64,
   "metadata": {},
   "outputs": [
    {
     "data": {
      "text/plain": [
       "35000"
      ]
     },
     "execution_count": 64,
     "metadata": {},
     "output_type": "execute_result"
    }
   ],
   "source": [
    "# Cuantos habitantes tiene Mallorca?\n",
    "habitantes['Mallorca']\n"
   ]
  },
  {
   "cell_type": "code",
   "execution_count": 65,
   "metadata": {},
   "outputs": [
    {
     "data": {
      "text/plain": [
       "35000"
      ]
     },
     "execution_count": 65,
     "metadata": {},
     "output_type": "execute_result"
    }
   ],
   "source": [
    "habitantes.get('Mallorca')"
   ]
  },
  {
   "cell_type": "code",
   "execution_count": 68,
   "metadata": {},
   "outputs": [
    {
     "data": {
      "text/plain": [
       "['Salamanca', 'Mallorca', 'Madrid', 'Alicante', 'Las Palmas', 'Granada']"
      ]
     },
     "execution_count": 68,
     "metadata": {},
     "output_type": "execute_result"
    }
   ],
   "source": [
    "#\n",
    "list(habitantes.keys())"
   ]
  },
  {
   "cell_type": "code",
   "execution_count": null,
   "metadata": {},
   "outputs": [],
   "source": []
  }
 ],
 "metadata": {
  "kernelspec": {
   "display_name": "base",
   "language": "python",
   "name": "python3"
  },
  "language_info": {
   "codemirror_mode": {
    "name": "ipython",
    "version": 3
   },
   "file_extension": ".py",
   "mimetype": "text/x-python",
   "name": "python",
   "nbconvert_exporter": "python",
   "pygments_lexer": "ipython3",
   "version": "3.11.5"
  }
 },
 "nbformat": 4,
 "nbformat_minor": 2
}

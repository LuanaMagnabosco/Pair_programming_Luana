{
 "cells": [
  {
   "cell_type": "code",
   "execution_count": 4,
   "metadata": {},
   "outputs": [],
   "source": [
    "#VARIABLES simpre llevan UNA señal de =\n",
    "numero1 = 1\n",
    "numero2 = 2\n",
    "numero3 = 3\n"
   ]
  },
  {
   "cell_type": "markdown",
   "metadata": {},
   "source": [
    "# Primera secuencia de ejercicios de Tuplas"
   ]
  },
  {
   "cell_type": "code",
   "execution_count": 7,
   "metadata": {},
   "outputs": [
    {
     "data": {
      "text/plain": [
       "False"
      ]
     },
     "execution_count": 7,
     "metadata": {},
     "output_type": "execute_result"
    }
   ],
   "source": [
    "numero1 > numero2"
   ]
  },
  {
   "cell_type": "code",
   "execution_count": 8,
   "metadata": {},
   "outputs": [
    {
     "data": {
      "text/plain": [
       "False"
      ]
     },
     "execution_count": 8,
     "metadata": {},
     "output_type": "execute_result"
    }
   ],
   "source": [
    "(numero1 < numero2) > numero3"
   ]
  },
  {
   "cell_type": "code",
   "execution_count": 9,
   "metadata": {},
   "outputs": [
    {
     "data": {
      "text/plain": [
       "False"
      ]
     },
     "execution_count": 9,
     "metadata": {},
     "output_type": "execute_result"
    }
   ],
   "source": [
    "numero3 == numero2"
   ]
  },
  {
   "cell_type": "code",
   "execution_count": 10,
   "metadata": {},
   "outputs": [
    {
     "data": {
      "text/plain": [
       "True"
      ]
     },
     "execution_count": 10,
     "metadata": {},
     "output_type": "execute_result"
    }
   ],
   "source": [
    "numero2 != numero1"
   ]
  },
  {
   "cell_type": "markdown",
   "metadata": {},
   "source": [
    "ejercicio 2"
   ]
  },
  {
   "cell_type": "code",
   "execution_count": 11,
   "metadata": {},
   "outputs": [],
   "source": [
    "altura1 = 1.52"
   ]
  },
  {
   "cell_type": "code",
   "execution_count": 12,
   "metadata": {},
   "outputs": [],
   "source": [
    "altura2 = 2.56"
   ]
  },
  {
   "cell_type": "code",
   "execution_count": 13,
   "metadata": {},
   "outputs": [
    {
     "data": {
      "text/plain": [
       "4.08"
      ]
     },
     "execution_count": 13,
     "metadata": {},
     "output_type": "execute_result"
    }
   ],
   "source": [
    "altura1 + altura2"
   ]
  },
  {
   "cell_type": "code",
   "execution_count": 14,
   "metadata": {},
   "outputs": [
    {
     "data": {
      "text/plain": [
       "-1.04"
      ]
     },
     "execution_count": 14,
     "metadata": {},
     "output_type": "execute_result"
    }
   ],
   "source": [
    "altura1 - altura2"
   ]
  },
  {
   "cell_type": "markdown",
   "metadata": {},
   "source": [
    "nunca lo interpretaremos un resultado negativo"
   ]
  },
  {
   "cell_type": "code",
   "execution_count": 15,
   "metadata": {},
   "outputs": [
    {
     "data": {
      "text/plain": [
       "1.52"
      ]
     },
     "execution_count": 15,
     "metadata": {},
     "output_type": "execute_result"
    }
   ],
   "source": [
    "altura1 % altura2"
   ]
  },
  {
   "cell_type": "code",
   "execution_count": 16,
   "metadata": {},
   "outputs": [
    {
     "name": "stdout",
     "output_type": "stream",
     "text": [
      "1.0\n"
     ]
    }
   ],
   "source": [
    "altura1 = 1.52\n",
    "altura2 = 2.56\n",
    "division_altura = altura1 / altura2\n",
    "division_altura_redondeada = round(division_altura, 0)\n",
    "print(division_altura_redondeada)"
   ]
  },
  {
   "cell_type": "code",
   "execution_count": 17,
   "metadata": {},
   "outputs": [
    {
     "name": "stdout",
     "output_type": "stream",
     "text": [
      "3.2\n"
     ]
    }
   ],
   "source": [
    "n_inventado = 3.175685245\n",
    "n_inventado_redondeado = round(n_inventado, 1)\n",
    "print(n_inventado_redondeado)"
   ]
  },
  {
   "cell_type": "markdown",
   "metadata": {},
   "source": [
    "# funcion() dos argumentos  el primero con 0 (decimales y el segundo con 1 decimal) funcion round recibe obligatoriamente como primero argunto el numero que quiero redondear y opcionalmente el numero de decimales con los que quiero redondear"
   ]
  },
  {
   "cell_type": "markdown",
   "metadata": {},
   "source": [
    "# input() (tienes que guardar en una variable) funcion VAN SOLAS / SON INDEPENDEINTES .upper() es un metodo LOS METODOS VAN ACOMPAÑADOS DE OTRO ELEMENTO y dentro de un metodo tambien pueden ir argumentos .nombre metodo //// un programa es una secuencia /// string es una cadena de texto "
   ]
  },
  {
   "cell_type": "code",
   "execution_count": 18,
   "metadata": {},
   "outputs": [
    {
     "name": "stdout",
     "output_type": "stream",
     "text": [
      "LUANA MAGNABOSCO\n",
      "luana magnabosco\n",
      "Luana Magnabosco\n",
      "Luana magnabosco\n"
     ]
    }
   ],
   "source": [
    "nombre_apellidos = input('Cual es tu numbre y apellido ')\n",
    "\n",
    "nombre_apellidos_mayus = nombre_apellidos.upper()\n",
    "nombre_apellidos_minus = nombre_apellidos.lower()\n",
    "nombre_apellidos_firstall = nombre_apellidos.title()\n",
    "nombre_apellidos_first = nombre_apellidos.capitalize()\n",
    "\n",
    "print(nombre_apellidos_mayus)\n",
    "print(nombre_apellidos_minus)\n",
    "print(nombre_apellidos_firstall)\n",
    "print(nombre_apellidos_first)"
   ]
  },
  {
   "cell_type": "code",
   "execution_count": 19,
   "metadata": {},
   "outputs": [
    {
     "name": "stdout",
     "output_type": "stream",
     "text": [
      "HOy es dOmingO\n"
     ]
    }
   ],
   "source": [
    "frase = input('introduce frase: ')\n",
    "vocal = input('introduce vocal: ')\n",
    "\n",
    "frase_procesada = frase.replace(vocal , vocal.upper())\n",
    "print(frase_procesada)"
   ]
  },
  {
   "cell_type": "code",
   "execution_count": 2,
   "metadata": {},
   "outputs": [
    {
     "name": "stdout",
     "output_type": "stream",
     "text": [
      "cafe\n",
      " pan\n",
      " cerveza\n",
      " vino\n"
     ]
    }
   ],
   "source": [
    "lista_compra_string = input(\"Introduce la lista de la compra: \")\n",
    "\n",
    "lista_compra_separada = lista_compra_string.split(\",\")\n",
    "#.split es para crear la lista, separar el sprint en elementos\n",
    "\n",
    "lista_compra_procesada = \"\\n\".join(lista_compra_separada)\n",
    "print(lista_compra_procesada)\n",
    "\n",
    "# \"\\n\"  para dar saltos de linea como si fuera un INTRO \n",
    "# join() justa todo y conviente en un unico string"
   ]
  },
  {
   "cell_type": "markdown",
   "metadata": {},
   "source": []
  }
 ],
 "metadata": {
  "kernelspec": {
   "display_name": "base",
   "language": "python",
   "name": "python3"
  },
  "language_info": {
   "codemirror_mode": {
    "name": "ipython",
    "version": 3
   },
   "file_extension": ".py",
   "mimetype": "text/x-python",
   "name": "python",
   "nbconvert_exporter": "python",
   "pygments_lexer": "ipython3",
   "version": "3.11.5"
  }
 },
 "nbformat": 4,
 "nbformat_minor": 2
}

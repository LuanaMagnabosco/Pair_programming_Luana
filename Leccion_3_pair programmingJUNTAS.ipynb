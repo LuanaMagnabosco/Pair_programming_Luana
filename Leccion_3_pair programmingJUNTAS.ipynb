{
 "cells": [
  {
   "cell_type": "code",
   "execution_count": 1,
   "metadata": {},
   "outputs": [],
   "source": [
    "#crear vacio ejercicio 1\n",
    "diccionario_vacio = dict()"
   ]
  },
  {
   "cell_type": "code",
   "execution_count": 3,
   "metadata": {},
   "outputs": [
    {
     "name": "stdout",
     "output_type": "stream",
     "text": [
      "{'Valentina': 'Barcelona', 'Luana': 'Madrid', 'Ana': 'Sevilla', 'Reyes': 'Madrid', 'Sandra': 'Mallorca', 'Franca': 'Granada'}\n"
     ]
    }
   ],
   "source": [
    "#ejercicio 2\n",
    "diccionario1 = {'Valentina' : 'Barcelona', 'Luana':'Madrid', 'Ana' : 'Sevilla', 'Reyes': 'Madrid', 'Sandra':'Mallorca', 'Franca':'Granada'}\n",
    "print(diccionario1)"
   ]
  },
  {
   "cell_type": "code",
   "execution_count": 4,
   "metadata": {},
   "outputs": [
    {
     "name": "stdout",
     "output_type": "stream",
     "text": [
      "La clave es: franca\n"
     ]
    }
   ],
   "source": [
    "#Ejercicio 3\n",
    "cual_clave = input('Cual Adalaber vive en Granada')\n",
    "\n",
    "print('La clave es:', cual_clave)\n"
   ]
  },
  {
   "cell_type": "code",
   "execution_count": 6,
   "metadata": {},
   "outputs": [
    {
     "name": "stdout",
     "output_type": "stream",
     "text": [
      "Resultado del nuevo diccionario: {'Valentina': 'Barcelona', 'Luana': 'Madrid', 'Ana': 'Sevilla', 'Reyes': 'Madrid', 'Sandra': 'Canarias', 'Franca': 'Granada'}\n"
     ]
    }
   ],
   "source": [
    "#Ejercicio 4 \n",
    "#Por que  el elemento está en la penultima posicion \n",
    "\n",
    "nuevo_elemento = {'Sandra':'Canarias'}\n",
    "diccionario1.update(nuevo_elemento)\n",
    "print('Resultado del nuevo diccionario:', diccionario1)"
   ]
  },
  {
   "cell_type": "code",
   "execution_count": 7,
   "metadata": {},
   "outputs": [
    {
     "name": "stdout",
     "output_type": "stream",
     "text": [
      "{'Valentina': 'Zaragoza', 'Luana': 'Madrid', 'Ana': 'Sevilla', 'Reyes': 'Madrid', 'Sandra': 'Canarias', 'Franca': 'Granada'}\n"
     ]
    }
   ],
   "source": [
    "#Ejercicio 5\n",
    "\n",
    "diccionario1['Valentina']= 'Zaragoza'\n",
    "print(diccionario1)"
   ]
  },
  {
   "cell_type": "code",
   "execution_count": null,
   "metadata": {},
   "outputs": [],
   "source": [
    "#Ejercicio 6 en el otro archivo"
   ]
  },
  {
   "cell_type": "code",
   "execution_count": 8,
   "metadata": {},
   "outputs": [
    {
     "name": "stdout",
     "output_type": "stream",
     "text": [
      "Cual Adalaber vive en Canarias True\n"
     ]
    }
   ],
   "source": [
    "#Ejercicio 7\n",
    "\n",
    "pregunta1 = input('Cual Adalaber vive en Canarias:')\n",
    "print('Cual Adalaber vive en Canarias', pregunta1 in diccionario1)"
   ]
  }
 ],
 "metadata": {
  "kernelspec": {
   "display_name": "base",
   "language": "python",
   "name": "python3"
  },
  "language_info": {
   "codemirror_mode": {
    "name": "ipython",
    "version": 3
   },
   "file_extension": ".py",
   "mimetype": "text/x-python",
   "name": "python",
   "nbconvert_exporter": "python",
   "pygments_lexer": "ipython3",
   "version": "3.11.5"
  }
 },
 "nbformat": 4,
 "nbformat_minor": 2
}

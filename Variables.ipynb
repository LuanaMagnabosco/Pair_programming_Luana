{
 "cells": [
  {
   "cell_type": "code",
   "execution_count": null,
   "metadata": {},
   "outputs": [],
   "source": [
    "numero1 = 1\n"
   ]
  },
  {
   "cell_type": "code",
   "execution_count": null,
   "metadata": {},
   "outputs": [],
   "source": [
    "numero2 = 2\n"
   ]
  },
  {
   "cell_type": "code",
   "execution_count": null,
   "metadata": {},
   "outputs": [],
   "source": [
    "numero3 = 3\n"
   ]
  },
  {
   "cell_type": "markdown",
   "metadata": {},
   "source": [
    "primer ejercicio "
   ]
  },
  {
   "cell_type": "code",
   "execution_count": null,
   "metadata": {},
   "outputs": [],
   "source": [
    "numero1 > numero2"
   ]
  },
  {
   "cell_type": "code",
   "execution_count": null,
   "metadata": {},
   "outputs": [],
   "source": [
    "(numero1 < numero2) > numero3"
   ]
  },
  {
   "cell_type": "code",
   "execution_count": null,
   "metadata": {},
   "outputs": [],
   "source": [
    "numero3 == numero2"
   ]
  },
  {
   "cell_type": "code",
   "execution_count": null,
   "metadata": {},
   "outputs": [],
   "source": [
    "numero2 != numero1"
   ]
  },
  {
   "cell_type": "markdown",
   "metadata": {},
   "source": [
    "ejercicio 2"
   ]
  },
  {
   "cell_type": "code",
   "execution_count": null,
   "metadata": {},
   "outputs": [],
   "source": [
    "altura1 = 1.52"
   ]
  },
  {
   "cell_type": "code",
   "execution_count": null,
   "metadata": {},
   "outputs": [],
   "source": [
    "altura2 = 2.56"
   ]
  },
  {
   "cell_type": "code",
   "execution_count": null,
   "metadata": {},
   "outputs": [],
   "source": [
    "altura1 + altura2"
   ]
  },
  {
   "cell_type": "code",
   "execution_count": null,
   "metadata": {},
   "outputs": [],
   "source": [
    "altura1 - altura2"
   ]
  },
  {
   "cell_type": "markdown",
   "metadata": {},
   "source": [
    "nunca lo interpretaremos un resultado negativo"
   ]
  },
  {
   "cell_type": "code",
   "execution_count": null,
   "metadata": {},
   "outputs": [],
   "source": [
    "altura1 % altura2"
   ]
  },
  {
   "cell_type": "code",
   "execution_count": null,
   "metadata": {},
   "outputs": [],
   "source": [
    "altura1 = 1.52\n",
    "altura2 = 2.56\n",
    "division_altura = altura1 / altura2\n",
    "division_altura_redondeada = round(division_altura, 0)\n",
    "print(division_altura_redondeada)"
   ]
  },
  {
   "cell_type": "code",
   "execution_count": null,
   "metadata": {},
   "outputs": [],
   "source": [
    "n_inventado = 3.175685245\n",
    "n_inventado_redondeado = round(n_inventado, 1)\n",
    "print(n_inventado_redondeado)"
   ]
  },
  {
   "cell_type": "markdown",
   "metadata": {},
   "source": [
    "funcion() dos argumentos  el primero con 0 (decimales y el segundo con 1 decimal) funcion round recibe obligatoriamente como primero argunto el numero que quiero redondear y opcionalmente el numero de decimales con los que quiero redondear"
   ]
  },
  {
   "cell_type": "markdown",
   "metadata": {},
   "source": [
    "input() (tienes que gusradar en una variable) funcion VAN SOLAS / SON INDEPENDEINTES .upper() es un metodo LOS METODOS VAN ACOMPAÑADOS DE OTRO ELEMENTO y dentro de un metodo tambien pueden ir argumentos .nombre metodo //// un programa es una secuencia /// string es una cadena de texto "
   ]
  },
  {
   "cell_type": "code",
   "execution_count": null,
   "metadata": {},
   "outputs": [],
   "source": [
    "nombre_apellidos = input('Cual es tu numbre y apellido ')\n",
    "\n",
    "nombre_apellidos_mayus = nombre_apellidos.upper()\n",
    "nombre_apellidos_minus = nombre_apellidos.lower()\n",
    "nombre_apellidos_firstall = nombre_apellidos.title()\n",
    "nombre_apellidos_first = nombre_apellidos.capitalize()\n",
    "\n",
    "print(nombre_apellidos_mayus)\n",
    "print(nombre_apellidos_minus)\n",
    "print(nombre_apellidos_firstall)\n",
    "print(nombre_apellidos_first)"
   ]
  },
  {
   "cell_type": "code",
   "execution_count": null,
   "metadata": {},
   "outputs": [],
   "source": [
    "frase = input('introduce frase: ')\n",
    "vocal = input('introduce vocal: ')\n",
    "\n",
    "frase_procesada = frase.replace(vocal , vocal.upper())\n",
    "print(frase_procesada)"
   ]
  },
  {
   "cell_type": "code",
   "execution_count": null,
   "metadata": {},
   "outputs": [],
   "source": [
    "lista_compra_string = input(\"Introduce la lista de la compra: \")\n",
    "\n",
    "lista_compra_separada = lista_compra_string.split(\",\")\n",
    "\n",
    "\n",
    "lista_compra_procesada = \"\\n\".join(lista_compra_separada)\n",
    "print(lista_compra_procesada)"
   ]
  },
  {
   "cell_type": "markdown",
   "metadata": {},
   "source": [
    "ultimo ejercicio no he conseguido "
   ]
  }
 ],
 "metadata": {
  "language_info": {
   "name": "python"
  }
 },
 "nbformat": 4,
 "nbformat_minor": 2
}

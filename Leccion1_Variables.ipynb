{
 "cells": [
  {
   "cell_type": "code",
   "execution_count": 4,
   "metadata": {},
   "outputs": [],
   "source": [
    "#VARIABLES simpre llevan UNA señal de =\n",
    "numero1 = 1\n",
    "numero2 = 2\n",
    "numero3 = 3\n"
   ]
  },
  {
   "cell_type": "markdown",
   "metadata": {},
   "source": [
    "# Primera secuencia de ejercicios de Tuplas"
   ]
  },
  {
   "cell_type": "code",
   "execution_count": 7,
   "metadata": {},
   "outputs": [
    {
     "data": {
      "text/plain": [
       "False"
      ]
     },
     "execution_count": 7,
     "metadata": {},
     "output_type": "execute_result"
    }
   ],
   "source": [
    "numero1 > numero2"
   ]
  },
  {
   "cell_type": "code",
   "execution_count": 8,
   "metadata": {},
   "outputs": [
    {
     "data": {
      "text/plain": [
       "False"
      ]
     },
     "execution_count": 8,
     "metadata": {},
     "output_type": "execute_result"
    }
   ],
   "source": [
    "(numero1 < numero2) > numero3"
   ]
  },
  {
   "cell_type": "code",
   "execution_count": 9,
   "metadata": {},
   "outputs": [
    {
     "data": {
      "text/plain": [
       "False"
      ]
     },
     "execution_count": 9,
     "metadata": {},
     "output_type": "execute_result"
    }
   ],
   "source": [
    "numero3 == numero2"
   ]
  },
  {
   "cell_type": "code",
   "execution_count": 10,
   "metadata": {},
   "outputs": [
    {
     "data": {
      "text/plain": [
       "True"
      ]
     },
     "execution_count": 10,
     "metadata": {},
     "output_type": "execute_result"
    }
   ],
   "source": [
    "numero2 != numero1"
   ]
  },
  {
   "cell_type": "markdown",
   "metadata": {},
   "source": [
    "ejercicio 2"
   ]
  },
  {
   "cell_type": "code",
   "execution_count": 11,
   "metadata": {},
   "outputs": [],
   "source": [
    "altura1 = 1.52"
   ]
  },
  {
   "cell_type": "code",
   "execution_count": 12,
   "metadata": {},
   "outputs": [],
   "source": [
    "altura2 = 2.56"
   ]
  },
  {
   "cell_type": "code",
   "execution_count": 13,
   "metadata": {},
   "outputs": [
    {
     "data": {
      "text/plain": [
       "4.08"
      ]
     },
     "execution_count": 13,
     "metadata": {},
     "output_type": "execute_result"
    }
   ],
   "source": [
    "altura1 + altura2"
   ]
  },
  {
   "cell_type": "code",
   "execution_count": 14,
   "metadata": {},
   "outputs": [
    {
     "data": {
      "text/plain": [
       "-1.04"
      ]
     },
     "execution_count": 14,
     "metadata": {},
     "output_type": "execute_result"
    }
   ],
   "source": [
    "altura1 - altura2"
   ]
  },
  {
   "cell_type": "markdown",
   "metadata": {},
   "source": [
    "nunca lo interpretaremos un resultado negativo"
   ]
  },
  {
   "cell_type": "code",
   "execution_count": 15,
   "metadata": {},
   "outputs": [
    {
     "data": {
      "text/plain": [
       "1.52"
      ]
     },
     "execution_count": 15,
     "metadata": {},
     "output_type": "execute_result"
    }
   ],
   "source": [
    "altura1 % altura2"
   ]
  },
  {
   "cell_type": "code",
   "execution_count": 16,
   "metadata": {},
   "outputs": [
    {
     "name": "stdout",
     "output_type": "stream",
     "text": [
      "1.0\n"
     ]
    }
   ],
   "source": [
    "altura1 = 1.52\n",
    "altura2 = 2.56\n",
    "division_altura = altura1 / altura2\n",
    "division_altura_redondeada = round(division_altura, 0)\n",
    "print(division_altura_redondeada)"
   ]
  },
  {
   "cell_type": "code",
   "execution_count": 17,
   "metadata": {},
   "outputs": [
    {
     "name": "stdout",
     "output_type": "stream",
     "text": [
      "3.2\n"
     ]
    }
   ],
   "source": [
    "n_inventado = 3.175685245\n",
    "n_inventado_redondeado = round(n_inventado, 1)\n",
    "print(n_inventado_redondeado)"
   ]
  },
  {
   "cell_type": "markdown",
   "metadata": {},
   "source": [
    "# funcion() dos argumentos  el primero con 0 (decimales y el segundo con 1 decimal) funcion round recibe obligatoriamente como primero argunto el numero que quiero redondear y opcionalmente el numero de decimales con los que quiero redondear"
   ]
  },
  {
   "cell_type": "markdown",
   "metadata": {},
   "source": [
    "# input() (tienes que guardar en una variable) funcion VAN SOLAS / SON INDEPENDEINTES .upper() es un metodo LOS METODOS VAN ACOMPAÑADOS DE OTRO ELEMENTO y dentro de un metodo tambien pueden ir argumentos .nombre metodo //// un programa es una secuencia /// string es una cadena de texto "
   ]
  },
  {
   "cell_type": "code",
   "execution_count": 18,
   "metadata": {},
   "outputs": [
    {
     "name": "stdout",
     "output_type": "stream",
     "text": [
      "LUANA MAGNABOSCO\n",
      "luana magnabosco\n",
      "Luana Magnabosco\n",
      "Luana magnabosco\n"
     ]
    }
   ],
   "source": [
    "nombre_apellidos = input('Cual es tu numbre y apellido ')\n",
    "\n",
    "nombre_apellidos_mayus = nombre_apellidos.upper()\n",
    "nombre_apellidos_minus = nombre_apellidos.lower()\n",
    "nombre_apellidos_firstall = nombre_apellidos.title()\n",
    "nombre_apellidos_first = nombre_apellidos.capitalize()\n",
    "\n",
    "print(nombre_apellidos_mayus)\n",
    "print(nombre_apellidos_minus)\n",
    "print(nombre_apellidos_firstall)\n",
    "print(nombre_apellidos_first)"
   ]
  },
  {
   "cell_type": "code",
   "execution_count": 19,
   "metadata": {},
   "outputs": [
    {
     "name": "stdout",
     "output_type": "stream",
     "text": [
      "HOy es dOmingO\n"
     ]
    }
   ],
   "source": [
    "frase = input('introduce frase: ')\n",
    "vocal = input('introduce vocal: ')\n",
    "\n",
    "frase_procesada = frase.replace(vocal , vocal.upper())\n",
    "print(frase_procesada)"
   ]
  },
  {
   "cell_type": "code",
   "execution_count": 2,
   "metadata": {},
   "outputs": [
    {
     "name": "stdout",
     "output_type": "stream",
     "text": [
      "cafe\n",
      " pan\n",
      " cerveza\n",
      " vino\n"
     ]
    }
   ],
   "source": [
    "lista_compra_string = input(\"Introduce la lista de la compra: \")\n",
    "\n",
    "lista_compra_separada = lista_compra_string.split(\",\")\n",
    "#.split es para crear la lista, separar el sprint en elementos\n",
    "\n",
    "lista_compra_procesada = \"\\n\".join(lista_compra_separada)\n",
    "print(lista_compra_procesada)\n",
    "\n",
    "# \"\\n\"  para dar saltos de linea como si fuera un INTRO \n",
    "# join() justa todo y conviente en un unico string"
   ]
  },
  {
   "cell_type": "markdown",
   "metadata": {},
   "source": [
    "REVISION: EJERCICIOS EXTRAS"
   ]
  },
  {
   "cell_type": "code",
   "execution_count": 3,
   "metadata": {},
   "outputs": [
    {
     "name": "stdout",
     "output_type": "stream",
     "text": [
      "8\n",
      "cuatro\n",
      "cuatro más perros\n"
     ]
    }
   ],
   "source": [
    "#Ejercicios 1/2/3/4/5\n",
    "gatos = 8\n",
    "perros = 'cuatro'\n",
    "print(gatos)\n",
    "print(perros)\n",
    "print(perros, 'más', 'perros')"
   ]
  },
  {
   "cell_type": "code",
   "execution_count": 5,
   "metadata": {},
   "outputs": [
    {
     "name": "stdout",
     "output_type": "stream",
     "text": [
      "cuatro más cuatro es igual a 8\n"
     ]
    }
   ],
   "source": [
    "#Ejercicio 6\n",
    "print(perros, 'más', perros,  'es igual a', gatos)"
   ]
  },
  {
   "cell_type": "code",
   "execution_count": 6,
   "metadata": {},
   "outputs": [
    {
     "name": "stdout",
     "output_type": "stream",
     "text": [
      "cuatro + cuatro = 8\n"
     ]
    }
   ],
   "source": [
    "#Ejercicio 7\n",
    "print(perros, '+', perros, '=', gatos)"
   ]
  },
  {
   "cell_type": "code",
   "execution_count": 17,
   "metadata": {},
   "outputs": [
    {
     "name": "stdout",
     "output_type": "stream",
     "text": [
      "La variables pizzas es del tipo: <class 'float'>\n",
      "La variables magdalenas es del tipo: <class 'str'>\n",
      "La variables postres es del tipo: <class 'int'>\n"
     ]
    }
   ],
   "source": [
    "#Ejercicios 8/9/10/11/12/13\n",
    "pizzas = 2.55\n",
    "magdalenas = 'cuatro'\n",
    "postres = 0\n",
    "print('La variables pizzas es del tipo:', type(pizzas))\n",
    "print('La variables magdalenas es del tipo:',type(magdalenas))\n",
    "print('La variables postres es del tipo:', type(postres))\n",
    "\n",
    "\n"
   ]
  },
  {
   "cell_type": "code",
   "execution_count": 9,
   "metadata": {},
   "outputs": [
    {
     "name": "stdout",
     "output_type": "stream",
     "text": [
      "La suma de gatos y pizazas es: 10.55\n"
     ]
    }
   ],
   "source": [
    "#Ejercicio 14\n",
    "print('La suma de gatos y pizazas es:', gatos + pizzas)"
   ]
  },
  {
   "cell_type": "code",
   "execution_count": 11,
   "metadata": {},
   "outputs": [
    {
     "name": "stdout",
     "output_type": "stream",
     "text": [
      "La diferencia entre gatos y pizzas es: 5.45\n"
     ]
    }
   ],
   "source": [
    "#Ejercicio 15 DUDA SI LA DIFERENCIA ES LA RESTA\n",
    "print('La diferencia entre gatos y pizzas es:', gatos - pizzas)"
   ]
  },
  {
   "cell_type": "code",
   "execution_count": 12,
   "metadata": {},
   "outputs": [
    {
     "name": "stdout",
     "output_type": "stream",
     "text": [
      "Multiplicar cantidad de gatos por dos: 16\n"
     ]
    }
   ],
   "source": [
    "#Ejercicio 16\n",
    "print('Multiplicar cantidad de gatos por dos:', gatos * 2)"
   ]
  },
  {
   "cell_type": "code",
   "execution_count": 14,
   "metadata": {},
   "outputs": [
    {
     "name": "stdout",
     "output_type": "stream",
     "text": [
      "Crea una variable `piezas` que sea 8 veces la cantidad de `pizzas` 20.4\n"
     ]
    }
   ],
   "source": [
    "#Ejercicio 17\n",
    "piezas = 8 * pizzas\n",
    "print('Crea una variable `piezas` que sea 8 veces la cantidad de `pizzas`:', piezas)"
   ]
  },
  {
   "cell_type": "code",
   "execution_count": 41,
   "metadata": {},
   "outputs": [
    {
     "name": "stdout",
     "output_type": "stream",
     "text": [
      "Haz que la cantidad de piezas se aumente en 3: 61.199999999999996\n"
     ]
    }
   ],
   "source": [
    "#Ejercicio 18\n",
    "print('Haz que la cantidad de piezas se aumente en 3:', piezas * 3)\n"
   ]
  },
  {
   "cell_type": "code",
   "execution_count": 43,
   "metadata": {},
   "outputs": [
    {
     "name": "stdout",
     "output_type": "stream",
     "text": [
      "Calcula el cuadrado de 9 y guárdalo en una variable llamada superficie.\n",
      "81\n"
     ]
    }
   ],
   "source": [
    "#Ejercicio 19\n",
    "print('Calcula el cuadrado de 9 y guárdalo en una variable llamada superficie.')\n",
    "superficie = 9 **2\n",
    "print(superficie)"
   ]
  },
  {
   "cell_type": "code",
   "execution_count": 44,
   "metadata": {},
   "outputs": [
    {
     "name": "stdout",
     "output_type": "stream",
     "text": [
      "¿Cuánta superficie hay por gato? 10.125\n"
     ]
    }
   ],
   "source": [
    "#Ejercicio 20\n",
    "print('¿Cuánta superficie hay por gato?', superficie / gatos)"
   ]
  },
  {
   "cell_type": "code",
   "execution_count": 46,
   "metadata": {},
   "outputs": [
    {
     "name": "stdout",
     "output_type": "stream",
     "text": [
      "¿Cuántas piezas enteras hay por gato? 2.0\n"
     ]
    }
   ],
   "source": [
    "#Ejercicio 21\n",
    "print('¿Cuántas piezas enteras hay por gato?', piezas // gatos)"
   ]
  },
  {
   "cell_type": "code",
   "execution_count": 48,
   "metadata": {},
   "outputs": [
    {
     "name": "stdout",
     "output_type": "stream",
     "text": [
      "¿Cuántas piezas te quedan si cada gato se come 21 piezas? 3427.2\n",
      "¿Cuántas piezas te quedan si cada gato se come 21 piezas? 3427.2\n"
     ]
    }
   ],
   "source": [
    "#Ejercicio 22\n",
    "print('¿Cuántas piezas te quedan si cada gato se come 21 piezas?', piezas * 21 * gatos)\n",
    "print('¿Cuántas piezas te quedan si cada gato se come 21 piezas?', piezas * gatos * 21)"
   ]
  },
  {
   "cell_type": "code",
   "execution_count": 49,
   "metadata": {},
   "outputs": [
    {
     "name": "stdout",
     "output_type": "stream",
     "text": [
      "¿Cuánta superficie hay por gato en metros cuadrados? Redondeala a un sólo decimal:\n",
      "1\n"
     ]
    }
   ],
   "source": [
    "#Ejercicio 23\n",
    "print('¿Cuánta superficie hay por gato en metros cuadrados? Redondeala a un sólo decimal:')\n",
    "print(round(superficie / gatos **2))"
   ]
  },
  {
   "cell_type": "code",
   "execution_count": 50,
   "metadata": {},
   "outputs": [
    {
     "name": "stdout",
     "output_type": "stream",
     "text": [
      "¿Es verdad que hay más gatos que pizzas? True\n"
     ]
    }
   ],
   "source": [
    "#Ejercicio 24\n",
    "print('¿Es verdad que hay más gatos que pizzas?', gatos>pizzas)"
   ]
  },
  {
   "cell_type": "code",
   "execution_count": 51,
   "metadata": {},
   "outputs": [
    {
     "name": "stdout",
     "output_type": "stream",
     "text": [
      "¿Es verdad que hay menos gatos que superficie? False\n"
     ]
    }
   ],
   "source": [
    "#Ejercicio 25 \n",
    "print('¿Es verdad que hay menos gatos que superficie?', gatos > superficie)"
   ]
  },
  {
   "cell_type": "code",
   "execution_count": 52,
   "metadata": {},
   "outputs": [
    {
     "name": "stdout",
     "output_type": "stream",
     "text": [
      "¿Es verdad que 2 veces la cantidad de pizzas es distinto de la cantidad de gatos? True\n"
     ]
    }
   ],
   "source": [
    "#Ejercicio 26\n",
    "print('¿Es verdad que 2 veces la cantidad de pizzas es distinto de la cantidad de gatos?', 2* pizzas != gatos )"
   ]
  },
  {
   "cell_type": "code",
   "execution_count": 53,
   "metadata": {},
   "outputs": [
    {
     "name": "stdout",
     "output_type": "stream",
     "text": [
      "¿Es falso que 2 veces la cantidad de pizzas es igual a la cantidad de gatos? False\n"
     ]
    }
   ],
   "source": [
    "#Ejercicio 27\n",
    "print('¿Es falso que 2 veces la cantidad de pizzas es igual a la cantidad de gatos?', 2 + pizzas == gatos)"
   ]
  },
  {
   "cell_type": "code",
   "execution_count": 54,
   "metadata": {},
   "outputs": [
    {
     "name": "stdout",
     "output_type": "stream",
     "text": [
      "La variable `piezas`, es mayor o igual a `pizzas` y `superficie` es distinto de cero?\n",
      "True\n"
     ]
    }
   ],
   "source": [
    "#Ejercicio 28\n",
    "print('La variable `piezas`, es mayor o igual a `pizzas` y `superficie` es distinto de cero?')\n",
    "print(piezas >= pizzas\n",
    "      and superficie != 0)"
   ]
  },
  {
   "cell_type": "code",
   "execution_count": 55,
   "metadata": {},
   "outputs": [
    {
     "name": "stdout",
     "output_type": "stream",
     "text": [
      " La variable `piezas`, es mayor o igual a `pizzas` y menor que `superficie`?\n",
      "True\n"
     ]
    }
   ],
   "source": [
    "#Ejercicio 29\n",
    "print(' La variable `piezas`, es mayor o igual a `pizzas` y menor que `superficie`?')\n",
    "print(piezas >= pizzas < superficie)"
   ]
  },
  {
   "cell_type": "code",
   "execution_count": 60,
   "metadata": {},
   "outputs": [
    {
     "name": "stdout",
     "output_type": "stream",
     "text": [
      "Me interesa saber si hay más pizzas que gatos, o si el residuo de piezas por gato es cero.\n",
      "False\n"
     ]
    }
   ],
   "source": [
    "#Ejercicio 30\n",
    "print('Me interesa saber si hay más pizzas que gatos, o si el residuo de piezas por gato es cero.')\n",
    "print(pizzas > gatos\n",
    "      or piezas / gatos == 0)"
   ]
  },
  {
   "cell_type": "code",
   "execution_count": 59,
   "metadata": {},
   "outputs": [
    {
     "name": "stdout",
     "output_type": "stream",
     "text": [
      "Comprueba las comparaciones de 29. en una sola línea, sin usar la variable `piezas` más que una sola vez.\n",
      "True\n"
     ]
    }
   ],
   "source": [
    "#Ejercicio 31 NO SÉ SI HE ENTENDIDO EL EJERCICIO\n",
    "print('Comprueba las comparaciones de 29. en una sola línea, sin usar la variable `piezas` más que una sola vez.')\n",
    "print(piezas >= pizzas < superficie)\n"
   ]
  },
  {
   "cell_type": "code",
   "execution_count": 64,
   "metadata": {},
   "outputs": [
    {
     "name": "stdout",
     "output_type": "stream",
     "text": [
      "Comprueba si `superficie` es diferente a cero sin usar `!=`.\n",
      "False\n",
      "False\n"
     ]
    },
    {
     "name": "stderr",
     "output_type": "stream",
     "text": [
      "<>:3: SyntaxWarning: \"is\" with a literal. Did you mean \"==\"?\n",
      "<>:3: SyntaxWarning: \"is\" with a literal. Did you mean \"==\"?\n",
      "/var/folders/cn/ktnmjcx51q78z4lts32htjr00000gn/T/ipykernel_77357/99516407.py:3: SyntaxWarning: \"is\" with a literal. Did you mean \"==\"?\n",
      "  print(superficie is 0)\n"
     ]
    }
   ],
   "source": [
    "#Ejercicio 32 \n",
    "print('Comprueba si `superficie` es diferente a cero sin usar `!=`.')\n",
    "print(superficie is 0)\n",
    "print(superficie == 0)"
   ]
  },
  {
   "cell_type": "code",
   "execution_count": 70,
   "metadata": {},
   "outputs": [
    {
     "name": "stdout",
     "output_type": "stream",
     "text": [
      "02\n"
     ]
    }
   ],
   "source": [
    "#Ejercicio 33: Usa `input()` para preguntar a un usuario el día de su cumpleaños y guarda la respuesta en la variable dia_cumple.\n",
    "dia_cumple = input('¿Cual es el día de tu cumpleaños?')\n",
    "print(dia_cumple)\n"
   ]
  },
  {
   "cell_type": "code",
   "execution_count": 71,
   "metadata": {},
   "outputs": [
    {
     "name": "stdout",
     "output_type": "stream",
     "text": [
      "septiembre\n"
     ]
    }
   ],
   "source": [
    "#Ejercicio 34: Usa `input()` para preguntar a un usuario el mes de su cumpleaños y guarda la respuesta en la variable mes_cumple.\n",
    "mes_cumple = input('¿Cual es el mes de tu cumpleaños')\n",
    "print(mes_cumple)\n"
   ]
  },
  {
   "cell_type": "code",
   "execution_count": 75,
   "metadata": {},
   "outputs": [
    {
     "name": "stdout",
     "output_type": "stream",
     "text": [
      "02\n",
      "septiembre\n"
     ]
    }
   ],
   "source": [
    "#Ejercicio 35: Usa `.strip()` en ambas de las variables definidas.\n",
    "print(dia_cumple.strip())\n",
    "print(mes_cumple.strip())\n"
   ]
  },
  {
   "cell_type": "code",
   "execution_count": 76,
   "metadata": {},
   "outputs": [
    {
     "name": "stdout",
     "output_type": "stream",
     "text": [
      "02 de septiembre\n"
     ]
    }
   ],
   "source": [
    "#Ejercicio 36: Haz que `fecha_cumple` sea un *string* compuesto por el día y el mes.\n",
    "print(dia_cumple.strip(), 'de', mes_cumple.strip())"
   ]
  },
  {
   "cell_type": "code",
   "execution_count": 77,
   "metadata": {},
   "outputs": [
    {
     "name": "stdout",
     "output_type": "stream",
     "text": [
      "Fecha de cumpleaños es: 02 de septiembre\n"
     ]
    }
   ],
   "source": [
    "#Ejercicio 37: \n",
    "print('Fecha de cumpleaños es:', dia_cumple, 'de', mes_cumple)"
   ]
  },
  {
   "cell_type": "code",
   "execution_count": 81,
   "metadata": {},
   "outputs": [
    {
     "name": "stdout",
     "output_type": "stream",
     "text": [
      "CUATRO\n"
     ]
    }
   ],
   "source": [
    "#Ejercicio 38:\n",
    "print(perros.upper())"
   ]
  }
 ],
 "metadata": {
  "kernelspec": {
   "display_name": "base",
   "language": "python",
   "name": "python3"
  },
  "language_info": {
   "codemirror_mode": {
    "name": "ipython",
    "version": 3
   },
   "file_extension": ".py",
   "mimetype": "text/x-python",
   "name": "python",
   "nbconvert_exporter": "python",
   "pygments_lexer": "ipython3",
   "version": "3.11.5"
  }
 },
 "nbformat": 4,
 "nbformat_minor": 2
}

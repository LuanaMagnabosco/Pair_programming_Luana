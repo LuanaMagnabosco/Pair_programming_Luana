{
 "cells": [
  {
   "cell_type": "code",
   "execution_count": 47,
   "metadata": {},
   "outputs": [],
   "source": [
    "lista = [2, 4, 6, 8, ]"
   ]
  },
  {
   "cell_type": "code",
   "execution_count": 48,
   "metadata": {},
   "outputs": [
    {
     "name": "stdout",
     "output_type": "stream",
     "text": [
      "Ejercicio_1: Duplicando los elementos de mi listas: [2, 4, 6, 8, 2, 4, 6, 8]\n"
     ]
    }
   ],
   "source": [
    "lista.extend(lista)\n",
    "print('Ejercicio_1: Duplicando los elementos de mi listas:',lista)"
   ]
  },
  {
   "cell_type": "code",
   "execution_count": 49,
   "metadata": {},
   "outputs": [
    {
     "name": "stdout",
     "output_type": "stream",
     "text": [
      "Ejercicio_2: La combinacion de las listas es: [3, 6, 9, 11, 13, 15]\n"
     ]
    }
   ],
   "source": [
    "lista1 = [3, 6, 9]\n",
    "lista2 = [11, 13, 15]\n",
    "lista1.extend(lista2)\n",
    "print('Ejercicio_2: La combinacion de las listas es:', lista1)"
   ]
  },
  {
   "cell_type": "code",
   "execution_count": 50,
   "metadata": {},
   "outputs": [
    {
     "name": "stdout",
     "output_type": "stream",
     "text": [
      "Ejercicio_3: La suma de los elementos de la lista es: 57\n"
     ]
    }
   ],
   "source": [
    "print('Ejercicio_3: La suma de los elementos de la lista es:', sum(lista1))"
   ]
  },
  {
   "cell_type": "markdown",
   "metadata": {},
   "source": [
    "sum() es una funcion"
   ]
  },
  {
   "cell_type": "code",
   "execution_count": 51,
   "metadata": {},
   "outputs": [
    {
     "name": "stdout",
     "output_type": "stream",
     "text": [
      "Ejercicio_4: El valor maximo de la lista es: 15\n"
     ]
    }
   ],
   "source": [
    "print('Ejercicio_4: El valor maximo de la lista es:', max(lista1))\n"
   ]
  },
  {
   "cell_type": "code",
   "execution_count": 52,
   "metadata": {},
   "outputs": [
    {
     "name": "stdout",
     "output_type": "stream",
     "text": [
      "Ejercicio_5: La lonjitud de la liesta es: 6\n"
     ]
    }
   ],
   "source": [
    "print('Ejercicio_5: La lonjitud de la liesta es:',len(lista1))"
   ]
  },
  {
   "cell_type": "code",
   "execution_count": 53,
   "metadata": {},
   "outputs": [
    {
     "name": "stdout",
     "output_type": "stream",
     "text": [
      "Ejercicio_6: Indice: 0\n"
     ]
    }
   ],
   "source": [
    "print('Ejercicio_6: Indice:', lista1.index(3))\n",
    "# si hay elementos iguales el metodo index solo me devuelve el indice del primer elemento"
   ]
  },
  {
   "cell_type": "code",
   "execution_count": 54,
   "metadata": {},
   "outputs": [
    {
     "name": "stdout",
     "output_type": "stream",
     "text": [
      "Ejercicio_7: Las veces que aparecen el numero 4 en la lista es: 2\n"
     ]
    }
   ],
   "source": [
    "print('Ejercicio_7: Las veces que aparecen el numero 4 en la lista es:',lista.count(4))"
   ]
  },
  {
   "cell_type": "markdown",
   "metadata": {},
   "source": [
    "Ejercicio 8 Crear una sublista no lo sé"
   ]
  },
  {
   "cell_type": "code",
   "execution_count": null,
   "metadata": {},
   "outputs": [
    {
     "name": "stdout",
     "output_type": "stream",
     "text": [
      "Ejercicio_8: Sublista del 2 hasta el 5 sin incluirlo es: [7, 9, 11]\n"
     ]
    }
   ],
   "source": [
    "lista5 = [2, 4,7,9,11,22,54,78]\n",
    "print ('Ejercicio_8: Sublista del 2 hasta el 5 sin incluirlo es:', lista5[2:5])"
   ]
  },
  {
   "cell_type": "code",
   "execution_count": 1,
   "metadata": {},
   "outputs": [
    {
     "name": "stdout",
     "output_type": "stream",
     "text": [
      "[2, 4, 7, [7, 9, 11], 22, 54, 78]\n"
     ]
    }
   ],
   "source": [
    "lista5 = [2, 4,7,9,11,22,54,78]\n",
    "lista_con_sublista = [ 2, 4, 7, lista5[2:5], 22, 54, 78]\n",
    "print(lista_con_sublista)\n",
    "\n",
    "# la sublista tiene que estar dentro de la lista como lo sé? por la separacion de los []"
   ]
  },
  {
   "cell_type": "code",
   "execution_count": 57,
   "metadata": {},
   "outputs": [
    {
     "name": "stdout",
     "output_type": "stream",
     "text": [
      "[7, 9, 11]\n",
      "[[4, 7]]\n"
     ]
    }
   ],
   "source": [
    "lista5 = [2, 4,7,9,11,22,54,78]\n",
    "\n",
    "nueva_lista = lista5[2:5]\n",
    "lista_con_sublista = [lista5[1:3]]\n",
    "print(nueva_lista)\n",
    "print(lista_con_sublista)"
   ]
  },
  {
   "cell_type": "code",
   "execution_count": 58,
   "metadata": {},
   "outputs": [
    {
     "name": "stdout",
     "output_type": "stream",
     "text": [
      "Ejercicio_9: El ultimo elemento de la lista es: 8\n"
     ]
    }
   ],
   "source": [
    "ultimoelemento = lista[-1]\n",
    "print('Ejercicio_9: El ultimo elemento de la lista es:', ultimoelemento)"
   ]
  },
  {
   "cell_type": "code",
   "execution_count": 59,
   "metadata": {},
   "outputs": [
    {
     "name": "stdout",
     "output_type": "stream",
     "text": [
      "Ejercicio_11: Sublista con los elementos del indice es: [4, 16, 32]\n"
     ]
    }
   ],
   "source": [
    "print('Ejercicio_11: Sublista con los elementos del indice es:', lista4[0:3])"
   ]
  },
  {
   "cell_type": "markdown",
   "metadata": {},
   "source": [
    "DUDA"
   ]
  },
  {
   "cell_type": "code",
   "execution_count": 3,
   "metadata": {},
   "outputs": [
    {
     "name": "stdout",
     "output_type": "stream",
     "text": [
      "Ejercicio_12: Reemplazando nuevo elemento en la primera posicion: [4, 16, 32, 64]\n"
     ]
    }
   ],
   "source": [
    "lista4 = [16, 32, 64]\n",
    "lista4.insert(0, 4)\n",
    "print('Ejercicio_12: Reemplazando nuevo elemento en la primera posicion:', lista4)"
   ]
  },
  {
   "cell_type": "code",
   "execution_count": 61,
   "metadata": {},
   "outputs": [
    {
     "name": "stdout",
     "output_type": "stream",
     "text": [
      "reemplazar elemento de la lista [4, 10, 32, 64]\n"
     ]
    }
   ],
   "source": [
    "lista4[1] = 10\n",
    "print('reemplazar elemento de la lista', lista4)\n"
   ]
  },
  {
   "cell_type": "code",
   "execution_count": 62,
   "metadata": {},
   "outputs": [
    {
     "name": "stdout",
     "output_type": "stream",
     "text": [
      "Ejercicio_13: La lista4 invertida es: [64, 32, 10, 4]\n"
     ]
    }
   ],
   "source": [
    "lista4.reverse()\n",
    "print('Ejercicio_13: La lista4 invertida es:', lista4)"
   ]
  },
  {
   "cell_type": "code",
   "execution_count": 63,
   "metadata": {},
   "outputs": [
    {
     "name": "stdout",
     "output_type": "stream",
     "text": [
      "Ejercicio_14: La lista4 ordenada es: [4, 10, 32, 64]\n"
     ]
    }
   ],
   "source": [
    "lista4.sort()\n",
    "print('Ejercicio_14: La lista4 ordenada es:', lista4)"
   ]
  },
  {
   "cell_type": "markdown",
   "metadata": {},
   "source": [
    "BONUS"
   ]
  },
  {
   "cell_type": "code",
   "execution_count": 5,
   "metadata": {},
   "outputs": [
    {
     "name": "stdout",
     "output_type": "stream",
     "text": [
      "[1, 4, 8, 9, 14, 16, 17, 57]\n"
     ]
    }
   ],
   "source": [
    "#Ejercicio 15: Bonuns... NO HE ENTENDIDO EL CODIGO, LO COPIÉ\n",
    "lista5 = [1, 4, 8, 9, 14, 16, 17, 57]\n",
    "print(lista5)\n",
    "numeros_pares = [num for num in lista5 if num % 2 == 0]\n"
   ]
  },
  {
   "cell_type": "code",
   "execution_count": 5,
   "metadata": {},
   "outputs": [
    {
     "name": "stdout",
     "output_type": "stream",
     "text": [
      "[1, 4, 7, 10]\n"
     ]
    }
   ],
   "source": [
    "#Ejercicio 16:  Dada una lista, obtén una sublista que contenga los elementos saltando de 3 en 3.\n",
    "lista6 = [1, 2, 3, 4, 5, 6, 7, 8, 9, 10]\n",
    "\n",
    "sublista1 = lista6[::3]\n",
    "print(sublista1)"
   ]
  },
  {
   "cell_type": "code",
   "execution_count": 6,
   "metadata": {},
   "outputs": [
    {
     "name": "stdout",
     "output_type": "stream",
     "text": [
      "10\n"
     ]
    }
   ],
   "source": [
    "#Ejercicio 17: Dada una lista de números, encuentra el segundo valor máximo.\n",
    "print(max(lista6))"
   ]
  },
  {
   "cell_type": "markdown",
   "metadata": {},
   "source": [
    "#Ejercicio 18:\n",
    "¿Qué diferencia existe entre el .sort() y el sorted()\n",
    "Dos funciones sirven para ordenar listas, la diferencia es que la funcion sort() no guarda los cambiso, para eso es necesario crear otra variable donde contenga los elementos ordenados"
   ]
  },
  {
   "cell_type": "code",
   "execution_count": 13,
   "metadata": {},
   "outputs": [
    {
     "name": "stdout",
     "output_type": "stream",
     "text": [
      "[1, 2, 3, 4, 5, 6, 7, 8, 9, 10, '24', '24', '24', '55', '88', '99', 24]\n",
      "[1, 2, 3, 4, 5, 6, 7, 8, 9, 10, '24', '24', '24', '55', '88', '99', 24, 55, 88, 99]\n"
     ]
    }
   ],
   "source": [
    "#Ejercicio 19: Dada una lista inicial, agrega nuevos elementos utilizando tanto append como extend y observa las diferencias en el resultado final.\n",
    "#El elemento que deberéis usar para añadir a la lista original tiene que ser una lista.\n",
    "lista6.append(24)\n",
    "print(lista6)\n",
    "lista6.extend([55, 88, 99])\n",
    "print(lista6)"
   ]
  },
  {
   "cell_type": "code",
   "execution_count": 18,
   "metadata": {},
   "outputs": [
    {
     "ename": "TypeError",
     "evalue": "'str' object cannot be interpreted as an integer",
     "output_type": "error",
     "traceback": [
      "\u001b[0;31m---------------------------------------------------------------------------\u001b[0m",
      "\u001b[0;31mTypeError\u001b[0m                                 Traceback (most recent call last)",
      "Cell \u001b[0;32mIn[18], line 5\u001b[0m\n\u001b[1;32m      3\u001b[0m nueva_lista1 \u001b[38;5;241m=\u001b[39m [\u001b[38;5;241m99\u001b[39m, \u001b[38;5;241m88\u001b[39m, \u001b[38;5;241m77\u001b[39m, \u001b[38;5;241m66\u001b[39m, \u001b[38;5;241m55\u001b[39m, \u001b[38;5;241m44\u001b[39m,]\n\u001b[1;32m      4\u001b[0m pregunta \u001b[38;5;241m=\u001b[39m \u001b[38;5;28minput\u001b[39m(\u001b[38;5;124m'\u001b[39m\u001b[38;5;124m¿En que posicion quieres insertar el numero 22?\u001b[39m\u001b[38;5;124m'\u001b[39m)\n\u001b[0;32m----> 5\u001b[0m nueva_lista1\u001b[38;5;241m.\u001b[39minsert(pregunta, \u001b[38;5;124m'\u001b[39m\u001b[38;5;124m22\u001b[39m\u001b[38;5;124m'\u001b[39m)\n\u001b[1;32m      6\u001b[0m \u001b[38;5;28mprint\u001b[39m(nueva_lista1)\n",
      "\u001b[0;31mTypeError\u001b[0m: 'str' object cannot be interpreted as an integer"
     ]
    }
   ],
   "source": [
    "#Ejercicio 20:  Dada una lista, inserta un nuevo elemento en una posición específica determinada por el usuario\n",
    "#(debereis usar la función input para preguntar al usuario en que posición quiere insertar el elemento).\n",
    "nueva_lista1 = [99, 88, 77, 66, 55, 44,]\n",
    "pregunta = input('¿En que posicion quieres insertar el numero 22?')\n",
    "nueva_lista1.insert(pregunta, '22')\n",
    "print(nueva_lista1)"
   ]
  },
  {
   "cell_type": "code",
   "execution_count": 24,
   "metadata": {},
   "outputs": [
    {
     "data": {
      "text/plain": [
       "False"
      ]
     },
     "execution_count": 24,
     "metadata": {},
     "output_type": "execute_result"
    }
   ],
   "source": [
    "#Ejercicio 21:  Dada una lista, verifica si un elemento específico está presente en ella. Igual que el caso anterior, \n",
    "#debereis preguntar al usuario que elemento quiere buscar en la lista.\n",
    "#El resultado deberá ser True o False.\n",
    "nueva_lista1 = [99, 88, 77, 66, 55, 44,]\n",
    "pregunta2 = input('¿Cual elemento quieres saber si esta en la lista?')\n",
    "pregunta2 in nueva_lista1\n",
    "#NO ENTIENDO POR QUE DIO FALSE\n"
   ]
  },
  {
   "cell_type": "code",
   "execution_count": 36,
   "metadata": {},
   "outputs": [
    {
     "name": "stdout",
     "output_type": "stream",
     "text": [
      "Lista completa [2, 4, 6, 8, 10, 11, 12, 13, 14, 15]\n",
      "Copia de la lista [2, 4, 6, 8, 10, 11, 12, 13, 14, 15]\n",
      "Usando la funcion remove(): [2, 4, 6, 10, 11, 12, 13, 14, 15]\n",
      "Usando la funcion pop(): [2, 4, 6, 8, 10, 11, 12, 13, 14]\n",
      "Usando la funcion clear(): []\n"
     ]
    }
   ],
   "source": [
    "#Ejercicio 22: Descripción: Crea una lista inicial, realiza operaciones de eliminación y limpieza utilizando los métodos\n",
    "#remove(), pop() y clear(), y observa cómo afectan a la lista.\n",
    "lista_inicial1 = [2, 4, 6, 8, 10, 11, 12, 13, 14, 15]\n",
    "copia_lista = lista_inicial1.copy()\n",
    "copia_lista2 = copia_lista.copy()\n",
    "print('Lista completa', lista_inicial1)\n",
    "print('Copia de la lista', copia_lista)\n",
    "lista_inicial1.remove(8)\n",
    "copia_lista.pop()\n",
    "copia_lista2.clear()\n",
    "print('Usando la funcion remove():',lista_inicial1)\n",
    "print('Usando la funcion pop():',copia_lista)\n",
    "print('Usando la funcion clear():',copia_lista2)"
   ]
  },
  {
   "cell_type": "code",
   "execution_count": 67,
   "metadata": {},
   "outputs": [
    {
     "name": "stdout",
     "output_type": "stream",
     "text": [
      "TUPLAS ('uno', 3, 'cinco', 7, 'nueve')\n"
     ]
    }
   ],
   "source": [
    "primera_tupla = ('uno', 3, 'cinco', 7, 'nueve')\n",
    "print('TUPLAS', primera_tupla)"
   ]
  },
  {
   "cell_type": "code",
   "execution_count": 68,
   "metadata": {},
   "outputs": [
    {
     "name": "stdout",
     "output_type": "stream",
     "text": [
      "Ejercicio_1: El primer elemento de mi tupla es: uno\n"
     ]
    }
   ],
   "source": [
    "primer_elemento = primera_tupla[0]\n",
    "print('Ejercicio_1:', 'El primer elemento de mi tupla es:', primer_elemento)"
   ]
  },
  {
   "cell_type": "code",
   "execution_count": 69,
   "metadata": {},
   "outputs": [
    {
     "name": "stdout",
     "output_type": "stream",
     "text": [
      "Ejercicio_2: El ultimo numero de mi tupla es: nueve\n"
     ]
    }
   ],
   "source": [
    "ultimo_elemento = primera_tupla[-1]\n",
    "print('Ejercicio_2:', 'El ultimo numero de mi tupla es:', ultimo_elemento)"
   ]
  },
  {
   "cell_type": "code",
   "execution_count": 70,
   "metadata": {},
   "outputs": [
    {
     "name": "stdout",
     "output_type": "stream",
     "text": [
      "Ejercicio_3: La lonjtud de la segunda tupla es: 5\n"
     ]
    }
   ],
   "source": [
    "segunda_tupla = 2, 4, 6, 8, 10\n",
    "print('Ejercicio_3: La lonjtud de la segunda tupla es:', len(segunda_tupla))\n"
   ]
  },
  {
   "cell_type": "code",
   "execution_count": 71,
   "metadata": {},
   "outputs": [
    {
     "name": "stdout",
     "output_type": "stream",
     "text": [
      "Ejercicio_4: El resultado de la concatenación de las dos tuplas es: ('uno', 3, 'cinco', 7, 'nueve', 2, 4, 6, 8, 10)\n"
     ]
    }
   ],
   "source": [
    "nueva_tupla = primera_tupla + segunda_tupla\n",
    "print('Ejercicio_4: El resultado de la concatenación de las dos tuplas es:', nueva_tupla)"
   ]
  },
  {
   "cell_type": "code",
   "execution_count": 73,
   "metadata": {},
   "outputs": [
    {
     "name": "stdout",
     "output_type": "stream",
     "text": [
      "Ejercicio_5: el indice del primer elemento 0\n"
     ]
    }
   ],
   "source": [
    "print('Ejercicio_5: el indice del primer elemento', nueva_tupla.index('uno'))"
   ]
  },
  {
   "cell_type": "code",
   "execution_count": null,
   "metadata": {},
   "outputs": [
    {
     "name": "stdout",
     "output_type": "stream",
     "text": [
      "Ejercicio_6: Cuantas veces aparece el numero 2 en mi tupla: 1\n"
     ]
    }
   ],
   "source": [
    "print('Ejercicio_6: Cuantas veces aparece el numero 2 en mi tupla:', nueva_tupla.count(2))"
   ]
  },
  {
   "cell_type": "markdown",
   "metadata": {},
   "source": [
    "EJERCICIO 7 no soy capaz\n"
   ]
  },
  {
   "cell_type": "code",
   "execution_count": 74,
   "metadata": {},
   "outputs": [
    {
     "name": "stdout",
     "output_type": "stream",
     "text": [
      "Ejercicio_7: La Subtupla con los elementos del indice es: (3, 'cinco')\n"
     ]
    }
   ],
   "source": [
    "print('Ejercicio_7: La Subtupla con los elementos del indice es:', nueva_tupla[1:3])"
   ]
  },
  {
   "cell_type": "code",
   "execution_count": null,
   "metadata": {},
   "outputs": [
    {
     "ename": "AttributeError",
     "evalue": "'tuple' object has no attribute 'reverse'",
     "output_type": "error",
     "traceback": [
      "\u001b[0;31m---------------------------------------------------------------------------\u001b[0m",
      "\u001b[0;31mAttributeError\u001b[0m                            Traceback (most recent call last)",
      "Cell \u001b[0;32mIn[110], line 2\u001b[0m\n\u001b[1;32m      1\u001b[0m tercera_tupla \u001b[38;5;241m=\u001b[39m (\u001b[38;5;241m1\u001b[39m, \u001b[38;5;241m1\u001b[39m, \u001b[38;5;241m4\u001b[39m, \u001b[38;5;241m7\u001b[39m, \u001b[38;5;124m'\u001b[39m\u001b[38;5;124mocho\u001b[39m\u001b[38;5;124m'\u001b[39m, \u001b[38;5;124m'\u001b[39m\u001b[38;5;124mnueve\u001b[39m\u001b[38;5;124m'\u001b[39m, \u001b[38;5;241m50\u001b[39m)\n\u001b[0;32m----> 2\u001b[0m tercera_tupla\u001b[38;5;241m.\u001b[39mreverse()\n",
      "\u001b[0;31mAttributeError\u001b[0m: 'tuple' object has no attribute 'reverse'"
     ]
    }
   ],
   "source": [
    "\n",
    "tercera_tupla = (1, 1, 4, 7, 'ocho', 'nueve', 50)\n",
    "tercera_tupla\n",
    "\n",
    "# EJERCICIO 8: Se puede invertir y poner en orden los elementos de una tupla? NO. para esto tengo que primero pasar a lista, ordenar y invertir y volver a convertir en tupla."
   ]
  }
 ],
 "metadata": {
  "kernelspec": {
   "display_name": "base",
   "language": "python",
   "name": "python3"
  },
  "language_info": {
   "codemirror_mode": {
    "name": "ipython",
    "version": 3
   },
   "file_extension": ".py",
   "mimetype": "text/x-python",
   "name": "python",
   "nbconvert_exporter": "python",
   "pygments_lexer": "ipython3",
   "version": "3.11.5"
  }
 },
 "nbformat": 4,
 "nbformat_minor": 2
}
